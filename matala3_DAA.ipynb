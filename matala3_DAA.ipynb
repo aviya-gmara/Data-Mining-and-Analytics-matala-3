{
 "cells":[
  {
   "cell_type":"markdown",
   "source":[
    "## Using an API to analyze distances and time between Tel Aviv and other cities in the world"
   ],
   "attachments":{
    
   },
   "metadata":{
    "datalore":{
     "node_id":"OWSQjASHWmvBMkGJM8XHJI",
     "type":"MD",
     "hide_input_from_viewers":true,
     "hide_output_from_viewers":true
    }
   }
  },
  {
   "cell_type":"code",
   "source":[
    "\n",
    "\n",
    "# Import the necessary libraries\n",
    "import pandas as pd\n",
    "import requests\n",
    "\n",
    "# Read the destinations from the text file\n",
    "with open(\"dests.txt\", \"r\") as f:\n",
    "    destinations = f.readlines()\n",
    "\n",
    "# Create a dataframe to store the results\n",
    "df = pd.DataFrame(columns=[\"Target\", \"Distance_km\", \"Duration\", \"Longitude\", \"Latitude\"])\n",
    "\n",
    "# Get the API key from the user\n",
    "API_KEY = 'API_KEY'\n",
    "\n",
    "# Loop over the destinations\n",
    "for destination in destinations:\n",
    "    # Get the longitude and latitude of the destination\n",
    "    geocode_response = requests.get(\"https:\/\/maps.googleapis.com\/maps\/api\/geocode\/json?address=\" + destination + \"&key=\" + API_KEY)\n",
    "    geocode_data = geocode_response.json()\n",
    "    longitude = geocode_data[\"results\"][0][\"geometry\"][\"location\"][\"lng\"]\n",
    "    latitude = geocode_data[\"results\"][0][\"geometry\"][\"location\"][\"lat\"]\n",
    "\n",
    "    # Get the distance and duration between Tel Aviv and the destination\n",
    "    distance_matrix_response = requests.get(\"https:\/\/maps.googleapis.com\/maps\/api\/distancematrix\/json?origins=Tel+Aviv&destinations=\" + destination + \"&mode=driving&units=metric&key=\" + API_KEY)\n",
    "    distance_matrix_data = distance_matrix_response.json()\n",
    "    distance_km = distance_matrix_data[\"rows\"][0][\"elements\"][0][\"distance\"][\"value\"]\n",
    "    duration = distance_matrix_data[\"rows\"][0][\"elements\"][0][\"duration\"][\"value\"]\n",
    "\n",
    "    # Add the results to the dataframe\n",
    "    df = df.append({\"Target\": destination, \"Distance_km\": distance_km, \"Duration\": duration, \"Longitude\": longitude, \"Latitude\": latitude}, ignore_index=True)\n",
    "        # Calculate the duration in minutes\n",
    "    df[\"Duration_minutes\"] = df[\"Duration\"] \/ 60\n",
    "\n",
    "    # Calculate the duration in hours and minutes\n",
    "    df[\"Duration_hours:minutes\"] = df[\"Duration\"] \/ 3600\n",
    "\n",
    "# # Find the 3 cities furthest from Tel Aviv\n",
    "# furthest_cities = df.sort_values(\"Distance_km\", ascending=False).head(3)\n",
    "\n"
   ],
   "execution_count":47,
   "outputs":[
    
   ],
   "metadata":{
    "datalore":{
     "node_id":"hGWLqRhKV0f5EmOCCuXxNE",
     "type":"CODE",
     "hide_input_from_viewers":true,
     "hide_output_from_viewers":true
    }
   }
  },
  {
   "cell_type":"code",
   "source":[
    "df_Cities=df[[\"Target\", \"Distance_km\", \"Duration_hours:minutes\", \"Longitude\", \"Latitude\"]]\n",
    "df_Cities"
   ],
   "execution_count":49,
   "outputs":[
    {
     "data":{
      "text\/html":[
       "<div>\n",
       "<style scoped>\n",
       "    .dataframe tbody tr th:only-of-type {\n",
       "        vertical-align: middle;\n",
       "    }\n",
       "\n",
       "    .dataframe tbody tr th {\n",
       "        vertical-align: top;\n",
       "    }\n",
       "\n",
       "    .dataframe thead th {\n",
       "        text-align: right;\n",
       "    }\n",
       "<\/style>\n",
       "<table border=\"1\" class=\"dataframe\">\n",
       "  <thead>\n",
       "    <tr style=\"text-align: right;\">\n",
       "      <th><\/th>\n",
       "      <th>Target<\/th>\n",
       "      <th>Distance_km<\/th>\n",
       "      <th>Duration_hours:minutes<\/th>\n",
       "      <th>Longitude<\/th>\n",
       "      <th>Latitude<\/th>\n",
       "    <\/tr>\n",
       "  <\/thead>\n",
       "  <tbody>\n",
       "    <tr>\n",
       "      <th>0<\/th>\n",
       "      <td>Istanbul\\n<\/td>\n",
       "      <td>1815227<\/td>\n",
       "      <td>21.047778<\/td>\n",
       "      <td>28.978359<\/td>\n",
       "      <td>41.008238<\/td>\n",
       "    <\/tr>\n",
       "    <tr>\n",
       "      <th>1<\/th>\n",
       "      <td>Amsterdam\\n<\/td>\n",
       "      <td>4532619<\/td>\n",
       "      <td>48.088611<\/td>\n",
       "      <td>4.904139<\/td>\n",
       "      <td>52.367573<\/td>\n",
       "    <\/tr>\n",
       "    <tr>\n",
       "      <th>2<\/th>\n",
       "      <td>Valletta\\n<\/td>\n",
       "      <td>3792883<\/td>\n",
       "      <td>50.854444<\/td>\n",
       "      <td>14.514100<\/td>\n",
       "      <td>35.899237<\/td>\n",
       "    <\/tr>\n",
       "    <tr>\n",
       "      <th>3<\/th>\n",
       "      <td>Basel\\n<\/td>\n",
       "      <td>4092812<\/td>\n",
       "      <td>44.039722<\/td>\n",
       "      <td>7.588576<\/td>\n",
       "      <td>47.559599<\/td>\n",
       "    <\/tr>\n",
       "    <tr>\n",
       "      <th>4<\/th>\n",
       "      <td>Doha<\/td>\n",
       "      <td>2164477<\/td>\n",
       "      <td>22.646389<\/td>\n",
       "      <td>51.531040<\/td>\n",
       "      <td>25.285447<\/td>\n",
       "    <\/tr>\n",
       "  <\/tbody>\n",
       "<\/table>\n",
       "<\/div>"
      ]
     },
     "metadata":{
      
     },
     "output_type":"display_data"
    }
   ],
   "metadata":{
    "datalore":{
     "node_id":"4qwpYxVdv07sEeUoiqEPv5",
     "type":"CODE",
     "hide_input_from_viewers":true,
     "hide_output_from_viewers":true
    }
   }
  },
  {
   "cell_type":"code",
   "source":[
    "# # Find the 3 cities furthest from Tel Aviv\n",
    "furthest_cities = df_Cities.sort_values(\"Distance_km\", ascending=False).head(3)\n",
    "\n",
    "print(\"The 3 cities furthest (by distance in kilometers) from Tel Aviv are:\")\n",
    "furthest_cities"
   ],
   "execution_count":51,
   "outputs":[
    {
     "name":"stdout",
     "text":[
      "The 3 cities furthest (by distance in kilometers) from Tel Aviv are:\n"
     ],
     "output_type":"stream"
    },
    {
     "data":{
      "text\/html":[
       "<div>\n",
       "<style scoped>\n",
       "    .dataframe tbody tr th:only-of-type {\n",
       "        vertical-align: middle;\n",
       "    }\n",
       "\n",
       "    .dataframe tbody tr th {\n",
       "        vertical-align: top;\n",
       "    }\n",
       "\n",
       "    .dataframe thead th {\n",
       "        text-align: right;\n",
       "    }\n",
       "<\/style>\n",
       "<table border=\"1\" class=\"dataframe\">\n",
       "  <thead>\n",
       "    <tr style=\"text-align: right;\">\n",
       "      <th><\/th>\n",
       "      <th>Target<\/th>\n",
       "      <th>Distance_km<\/th>\n",
       "      <th>Duration_hours:minutes<\/th>\n",
       "      <th>Longitude<\/th>\n",
       "      <th>Latitude<\/th>\n",
       "    <\/tr>\n",
       "  <\/thead>\n",
       "  <tbody>\n",
       "    <tr>\n",
       "      <th>1<\/th>\n",
       "      <td>Amsterdam\\n<\/td>\n",
       "      <td>4532619<\/td>\n",
       "      <td>48.088611<\/td>\n",
       "      <td>4.904139<\/td>\n",
       "      <td>52.367573<\/td>\n",
       "    <\/tr>\n",
       "    <tr>\n",
       "      <th>3<\/th>\n",
       "      <td>Basel\\n<\/td>\n",
       "      <td>4092812<\/td>\n",
       "      <td>44.039722<\/td>\n",
       "      <td>7.588576<\/td>\n",
       "      <td>47.559599<\/td>\n",
       "    <\/tr>\n",
       "    <tr>\n",
       "      <th>2<\/th>\n",
       "      <td>Valletta\\n<\/td>\n",
       "      <td>3792883<\/td>\n",
       "      <td>50.854444<\/td>\n",
       "      <td>14.514100<\/td>\n",
       "      <td>35.899237<\/td>\n",
       "    <\/tr>\n",
       "  <\/tbody>\n",
       "<\/table>\n",
       "<\/div>"
      ]
     },
     "metadata":{
      
     },
     "output_type":"display_data"
    }
   ],
   "metadata":{
    "datalore":{
     "node_id":"ic8RFtbVxuH1wGATCzgqfP",
     "type":"CODE",
     "hide_input_from_viewers":true,
     "hide_output_from_viewers":true
    }
   }
  }
 ],
 "metadata":{
  "kernelspec":{
   "display_name":"Python",
   "language":"python",
   "name":"python"
  },
  "datalore":{
   "computation_mode":"JUPYTER",
   "package_manager":"pip",
   "base_environment":"default",
   "packages":[
    {
     "name":"quote",
     "source":"PIP"
    },
    {
     "name":"googlemaps",
     "source":"PIP"
    }
   ],
   "report_row_ids":[
    
   ],
   "version":3
  }
 },
 "nbformat":4,
 "nbformat_minor":4
}